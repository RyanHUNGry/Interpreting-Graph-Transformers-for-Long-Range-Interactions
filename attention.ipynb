{
 "cells": [
  {
   "cell_type": "code",
   "execution_count": 175,
   "metadata": {},
   "outputs": [
    {
     "name": "stdout",
     "output_type": "stream",
     "text": [
      "The autoreload extension is already loaded. To reload it, use:\n",
      "  %reload_ext autoreload\n"
     ]
    }
   ],
   "source": [
    "%load_ext autoreload\n",
    "%autoreload 2\n",
    "\n",
    "import torch\n",
    "from src.models.gps import GPS\n",
    "from src.models.utils.hooks import GPSHook\n",
    "from src.models.explainer.explainer_pipeline import ExplainerPipeline\n",
    "from src.data import loader\n",
    "from src.models.model import train, test\n",
    "\n",
    "from src.models.gps import GPS\n",
    "from src.models.gcn import GCN\n",
    "from src.models.explainer.explainer_pipeline import ExplainerPipeline\n",
    "from src.models.explainer.gnn_explainer import GNNExplainer\n",
    "from src.models.explainer.attention_explainer import AttentionExplainer\n",
    "from src.data import loader\n",
    "\n",
    "import networkx as nx\n",
    "\n",
    "from torch_geometric.explain import ModelConfig"
   ]
  },
  {
   "cell_type": "code",
   "execution_count": 176,
   "metadata": {},
   "outputs": [],
   "source": [
    "data, num_classes, data_networkx = loader.load_clean_bashapes(num_nodes=25, num_edges=5, num_motifs=10, laplacian_eigenvector_dimensions=2)"
   ]
  },
  {
   "cell_type": "code",
   "execution_count": 177,
   "metadata": {},
   "outputs": [
    {
     "name": "stderr",
     "output_type": "stream",
     "text": [
      "100%|██████████| 1000/1000 [00:17<00:00, 55.91it/s]"
     ]
    },
    {
     "name": "stdout",
     "output_type": "stream",
     "text": [
      "Train accuracy: 1.0\n",
      "Test accuracy: 0.7333333333333333\n"
     ]
    },
    {
     "name": "stderr",
     "output_type": "stream",
     "text": [
      "\n"
     ]
    }
   ],
   "source": [
    "gps_params = {\n",
    "    'pe_channels': 2,\n",
    "    'num_layers': 4,\n",
    "    'hidden_channels': 4,\n",
    "    'num_attention_heads': 1,\n",
    "    'observe_attention': True\n",
    "}\n",
    "\n",
    "gcn_params = {\n",
    "    \"hidden_channels\": 20,\n",
    "    \"num_layers\": 3\n",
    "}\n",
    "\n",
    "explainer_params = {\n",
    "    'explanation_type': 'model',\n",
    "    'node_mask_type': 'attributes',\n",
    "    'edge_mask_type': 'object',\n",
    "    'model_config': ModelConfig(\n",
    "        mode='multiclass_classification',\n",
    "        task_level='node',\n",
    "        return_type='raw',\n",
    "    )\n",
    "}\n",
    "\n",
    "explainer_pipeline = ExplainerPipeline(data, num_classes, GPS, explainer=AttentionExplainer, Hook=GPSHook, model_params=gps_params, explainer_params=explainer_params, epochs=1000)\n",
    "explainer_pipeline.get_accuracies()"
   ]
  },
  {
   "cell_type": "code",
   "execution_count": 178,
   "metadata": {},
   "outputs": [
    {
     "data": {
      "text/plain": [
       "(0.0, 1.0)"
      ]
     },
     "execution_count": 178,
     "metadata": {},
     "output_type": "execute_result"
    }
   ],
   "source": [
    "explainer_pipeline.explain(3, laplacian_eigenvector_pe = data.laplacian_eigenvector_pe)\n",
    "explainer_pipeline.explanations[3]\n",
    "explainer_pipeline.get_explanation_fidelity(3)"
   ]
  },
  {
   "cell_type": "code",
   "execution_count": null,
   "metadata": {},
   "outputs": [],
   "source": []
  }
 ],
 "metadata": {
  "kernelspec": {
   "display_name": "base",
   "language": "python",
   "name": "python3"
  },
  "language_info": {
   "codemirror_mode": {
    "name": "ipython",
    "version": 3
   },
   "file_extension": ".py",
   "mimetype": "text/x-python",
   "name": "python",
   "nbconvert_exporter": "python",
   "pygments_lexer": "ipython3",
   "version": "3.11.4"
  }
 },
 "nbformat": 4,
 "nbformat_minor": 2
}
