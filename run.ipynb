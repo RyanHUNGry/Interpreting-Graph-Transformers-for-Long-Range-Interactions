{
 "cells": [
  {
   "cell_type": "code",
   "execution_count": 18,
   "metadata": {},
   "outputs": [
    {
     "name": "stdout",
     "output_type": "stream",
     "text": [
      "<class 'torch_geometric.datasets.planetoid.Planetoid'>\n",
      "torch.Size([2708, 2708])\n",
      "tensor([ 47,  47,  47,  ...,  47,  47, 130])\n",
      "Train Accuracy for Cora node-level classification: 1.0\n",
      "Test Accuracy for Cora node-level classification: 0.185\n"
     ]
    }
   ],
   "source": [
    "import src.data.loader as loader\n",
    "import src.models.gps as gps\n",
    "import torch_geometric.data\n",
    "\n",
    "# basic test on cora for dev purposes\n",
    "cora_data, num_classes = loader.load_clean_cora()\n",
    "model = gps.GPS(cora_data, num_classes, pe_channels=5, hidden_channels=2, observe_attention=True)\n",
    "w = gps.train(model, cora_data) # w is a list of N attention matrices where N = # of transformer layers\n",
    "single_matrix = w[0][0]\n",
    "train_acc, test_acc = gps.test(model, cora_data)\n",
    "print(f'Train Accuracy for Cora node-level classification: {train_acc}')\n",
    "print(f'Test Accuracy for Cora node-level classification: {test_acc}')"
   ]
  },
  {
   "cell_type": "markdown",
   "metadata": {},
   "source": []
  }
 ],
 "metadata": {
  "kernelspec": {
   "display_name": "base",
   "language": "python",
   "name": "python3"
  },
  "language_info": {
   "codemirror_mode": {
    "name": "ipython",
    "version": 3
   },
   "file_extension": ".py",
   "mimetype": "text/x-python",
   "name": "python",
   "nbconvert_exporter": "python",
   "pygments_lexer": "ipython3",
   "version": "3.11.4"
  }
 },
 "nbformat": 4,
 "nbformat_minor": 2
}
