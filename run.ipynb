{
 "cells": [
  {
   "cell_type": "code",
   "execution_count": 14,
   "metadata": {},
   "outputs": [
    {
     "name": "stdout",
     "output_type": "stream",
     "text": [
      "The autoreload extension is already loaded. To reload it, use:\n",
      "  %reload_ext autoreload\n"
     ]
    }
   ],
   "source": [
    "%load_ext autoreload\n",
    "%autoreload 2\n",
    "\n",
    "from src.models.pipeline.synthetic_trainer import SyntheticTrainer\n",
    "import src.data.synthetic.gengraph as gengraph\n",
    "import src.models.gps as gps\n",
    "from torch import set_printoptions\n",
    "\n",
    "set_printoptions(threshold=10000)"
   ]
  },
  {
   "cell_type": "code",
   "execution_count": 17,
   "metadata": {},
   "outputs": [
    {
     "data": {
      "text/plain": [
       "Data(edge_index=[2, 1666], feat=[350], num_nodes=350, y=[350], train_mask=[350], val_mask=[350], test_mask=[350], x=[350, 1], laplacian_eigenvector_pe=[350, 5])"
      ]
     },
     "execution_count": 17,
     "metadata": {},
     "output_type": "execute_result"
    }
   ],
   "source": [
    "synthetic_trainer = SyntheticTrainer(gengraph.gen_syn1, nb_shapes=50, width_basis=100)\n",
    "synthetic_trainer.assign_encodings()\n",
    "model = synthetic_trainer.initialize_model(pe_channels=5, hidden_channels=4, num_layers=3, num_attention_heads=2, observe_attention=True)\n",
    "graph = synthetic_trainer.get_graph()\n",
    "graph"
   ]
  },
  {
   "cell_type": "code",
   "execution_count": 18,
   "metadata": {},
   "outputs": [
    {
     "name": "stderr",
     "output_type": "stream",
     "text": [
      "100%|██████████| 100/100 [01:30<00:00,  1.11it/s]\n"
     ]
    },
    {
     "name": "stdout",
     "output_type": "stream",
     "text": [
      "Train Accuracy: 0.6571428775787354\n",
      "Test Accuracy: 0.3795918367346939\n"
     ]
    }
   ],
   "source": [
    "w = gps.train(model, graph, epochs=100)\n",
    "train_acc, test_acc = gps.test(model, graph)\n",
    "print(\"Train Accuracy:\", train_acc)\n",
    "print(\"Test Accuracy:\", test_acc)"
   ]
  },
  {
   "cell_type": "code",
   "execution_count": 21,
   "metadata": {},
   "outputs": [
    {
     "data": {
      "text/plain": [
       "[tensor([[[0.0028, 0.0028, 0.0029,  ..., 0.0025, 0.0025, 0.0025],\n",
       "          [0.0028, 0.0028, 0.0029,  ..., 0.0025, 0.0025, 0.0025],\n",
       "          [0.0028, 0.0028, 0.0029,  ..., 0.0025, 0.0025, 0.0025],\n",
       "          ...,\n",
       "          [0.0028, 0.0028, 0.0029,  ..., 0.0025, 0.0025, 0.0025],\n",
       "          [0.0028, 0.0028, 0.0029,  ..., 0.0025, 0.0025, 0.0025],\n",
       "          [0.0028, 0.0028, 0.0029,  ..., 0.0025, 0.0025, 0.0025]]],\n",
       "        grad_fn=<MeanBackward1>),\n",
       " tensor([[[2.8052e-02, 1.1972e-05, 4.2225e-05,  ..., 1.1401e-07,\n",
       "           3.0270e-08, 1.0222e-08],\n",
       "          [4.6831e-02, 3.1047e-03, 4.5526e-03,  ..., 8.5496e-04,\n",
       "           5.5302e-04, 4.0234e-04],\n",
       "          [6.5340e-02, 1.9486e-03, 2.9957e-03,  ..., 4.7499e-04,\n",
       "           2.7321e-04, 1.7907e-04],\n",
       "          ...,\n",
       "          [1.9027e-03, 2.2363e-03, 2.3218e-03,  ..., 2.8593e-03,\n",
       "           3.0288e-03, 3.2216e-03],\n",
       "          [1.0485e-02, 3.4507e-03, 4.4195e-03,  ..., 1.8459e-03,\n",
       "           1.6918e-03, 1.5728e-03],\n",
       "          [2.9878e-02, 2.4327e-03, 4.2939e-03,  ..., 7.5282e-04,\n",
       "           7.6073e-04, 7.7527e-04]]], grad_fn=<MeanBackward1>),\n",
       " tensor([[[0.0024, 0.0020, 0.0027,  ..., 0.0049, 0.0052, 0.0048],\n",
       "          [0.0040, 0.0033, 0.0042,  ..., 0.0030, 0.0028, 0.0027],\n",
       "          [0.0025, 0.0018, 0.0029,  ..., 0.0059, 0.0066, 0.0061],\n",
       "          ...,\n",
       "          [0.0057, 0.0036, 0.0065,  ..., 0.0008, 0.0008, 0.0010],\n",
       "          [0.0038, 0.0030, 0.0041,  ..., 0.0011, 0.0011, 0.0013],\n",
       "          [0.0016, 0.0019, 0.0015,  ..., 0.0023, 0.0025, 0.0028]]],\n",
       "        grad_fn=<MeanBackward1>)]"
      ]
     },
     "execution_count": 21,
     "metadata": {},
     "output_type": "execute_result"
    }
   ],
   "source": [
    "w"
   ]
  },
  {
   "cell_type": "code",
   "execution_count": null,
   "metadata": {},
   "outputs": [],
   "source": []
  }
 ],
 "metadata": {
  "kernelspec": {
   "display_name": "base",
   "language": "python",
   "name": "python3"
  },
  "language_info": {
   "codemirror_mode": {
    "name": "ipython",
    "version": 3
   },
   "file_extension": ".py",
   "mimetype": "text/x-python",
   "name": "python",
   "nbconvert_exporter": "python",
   "pygments_lexer": "ipython3",
   "version": "3.11.4"
  }
 },
 "nbformat": 4,
 "nbformat_minor": 2
}
